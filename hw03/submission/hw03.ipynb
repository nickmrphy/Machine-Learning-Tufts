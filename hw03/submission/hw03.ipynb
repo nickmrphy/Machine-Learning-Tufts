{
 "cells": [
  {
   "cell_type": "markdown",
   "metadata": {},
   "source": [
    "## Nick Murphy (nmurph03)\n",
    "## Project 1 Code"
   ]
  },
  {
   "cell_type": "markdown",
   "metadata": {},
   "source": [
    "## HW03 Code\n",
    "\n",
    "\n",
    "You will complete the following notebook, as described in the PDF for Homework 03 (included in the download with the starter code).  You will submit:\n",
    "1. This notebook file, along with your COLLABORATORS.txt file, to the Gradescope link for code.\n",
    "2. A PDF of this notebook and all of its output, once it is completed, to the Gradescope link for the PDF.\n",
    "\n",
    "\n",
    "Please report any questions to the [class Piazza page](piazza.com/tufts/spring2021/comp135/home).\n",
    "\n",
    "### Import required libraries"
   ]
  },
  {
   "cell_type": "code",
   "execution_count": 2,
   "metadata": {},
   "outputs": [],
   "source": [
    "import os\n",
    "import numpy as np\n",
    "import pandas as pd\n",
    "\n",
    "import warnings\n",
    "warnings.simplefilter(action='ignore', category=FutureWarning)\n",
    "\n",
    "import sklearn.linear_model\n",
    "import sklearn.metrics\n",
    "from sklearn.linear_model import LogisticRegression\n",
    "\n",
    "from matplotlib import pyplot as plt\n",
    "import seaborn as sns\n",
    "%matplotlib inline\n",
    "plt.style.use('seaborn') # pretty matplotlib plots"
   ]
  },
  {
   "cell_type": "markdown",
   "metadata": {},
   "source": [
    "Cancer-Risk Screening\n",
    "\n",
    "### 1: Compute true/false positives/negatives.\n",
    "\n",
    "Complete the following code."
   ]
  },
  {
   "cell_type": "code",
   "execution_count": 3,
   "metadata": {},
   "outputs": [],
   "source": [
    "def calc_TP_TN_FP_FN(ytrue_N, yhat_N):\n",
    "    ''' Compute counts of four possible outcomes of a binary classifier for evaluation.\n",
    "    \n",
    "    Args\n",
    "    ----\n",
    "    ytrue_N : 1D array of floats\n",
    "        Each entry represents the binary value (0 or 1) of 'true' label of one example\n",
    "        One entry per example in current dataset\n",
    "    yhat_N : 1D array of floats\n",
    "        Each entry represents a predicted binary value (either 0 or 1).\n",
    "        One entry per example in current dataset.\n",
    "        Needs to be same size as ytrue_N.\n",
    "\n",
    "    Returns\n",
    "    -------\n",
    "    TP : float\n",
    "        Number of true positives\n",
    "    TN : float\n",
    "        Number of true negatives\n",
    "    FP : float\n",
    "        Number of false positives\n",
    "    FN : float\n",
    "        Number of false negatives\n",
    "    '''\n",
    "    TP = 0.0\n",
    "    TN = 0.0\n",
    "    FP = 0.0\n",
    "    FN = 0.0\n",
    "    for i in range(len(ytrue_N)):\n",
    "        if yhat_N[i] == 1:\n",
    "            if ytrue_N[i] == yhat_N[i]:\n",
    "                TP+=1\n",
    "            elif ytrue_N[i] != yhat_N[i]:\n",
    "                FP+=1\n",
    "        elif yhat_N[i] == 0:\n",
    "            if ytrue_N[i] == yhat_N[i]:\n",
    "                TN+=1\n",
    "            elif ytrue_N[i] != yhat_N[i]:\n",
    "                FN+=1\n",
    "    return TP, TN, FP, FN"
   ]
  },
  {
   "cell_type": "code",
   "execution_count": 4,
   "metadata": {},
   "outputs": [
    {
     "data": {
      "text/plain": [
       "(0.0, 0.0, 10.0, 0.0)"
      ]
     },
     "execution_count": 4,
     "metadata": {},
     "output_type": "execute_result"
    }
   ],
   "source": [
    "all0 = np.zeros(10)\n",
    "all1 = np.ones(10)\n",
    "calc_TP_TN_FP_FN(all0, all1)"
   ]
  },
  {
   "cell_type": "code",
   "execution_count": 5,
   "metadata": {},
   "outputs": [
    {
     "data": {
      "text/plain": [
       "(0.0, 0.0, 0.0, 10.0)"
      ]
     },
     "execution_count": 5,
     "metadata": {},
     "output_type": "execute_result"
    }
   ],
   "source": [
    "calc_TP_TN_FP_FN(all1, all0)"
   ]
  },
  {
   "cell_type": "code",
   "execution_count": 6,
   "metadata": {},
   "outputs": [
    {
     "data": {
      "text/plain": [
       "(10.0, 0.0, 0.0, 0.0)"
      ]
     },
     "execution_count": 6,
     "metadata": {},
     "output_type": "execute_result"
    }
   ],
   "source": [
    "calc_TP_TN_FP_FN(all1, all1)"
   ]
  },
  {
   "cell_type": "code",
   "execution_count": 7,
   "metadata": {},
   "outputs": [
    {
     "data": {
      "text/plain": [
       "(0.0, 10.0, 0.0, 0.0)"
      ]
     },
     "execution_count": 7,
     "metadata": {},
     "output_type": "execute_result"
    }
   ],
   "source": [
    "calc_TP_TN_FP_FN(all0, all0)"
   ]
  },
  {
   "cell_type": "markdown",
   "metadata": {},
   "source": [
    "### Supplied functions for later use\n",
    "\n",
    "***Do not*** edit the following functions.  They are already complete, and will be used in your later code."
   ]
  },
  {
   "cell_type": "code",
   "execution_count": 8,
   "metadata": {},
   "outputs": [],
   "source": [
    "def calc_perf_metrics_for_threshold(ytrue_N, yproba1_N, thresh):\n",
    "    ''' Compute performance metrics for a given probabilistic classifier and threshold\n",
    "    '''\n",
    "    tp, tn, fp, fn = calc_TP_TN_FP_FN(ytrue_N, yproba1_N >= thresh)\n",
    "    ## Compute ACC, TPR, TNR, etc.\n",
    "    acc = (tp + tn) / float(tp + tn + fp + fn + 1e-10)\n",
    "    tpr = tp / float(tp + fn + 1e-10)\n",
    "    tnr = tn / float(fp + tn + 1e-10)\n",
    "    ppv = tp / float(tp + fp + 1e-10)\n",
    "    npv = tn / float(tn + fn + 1e-10)\n",
    "    \n",
    "    return acc, tpr, tnr, ppv, npv\n",
    "\n",
    "def print_perf_metrics_for_threshold(ytrue_N, yproba1_N, thresh):\n",
    "    ''' Pretty print perf. metrics for a given probabilistic classifier and threshold\n",
    "    '''\n",
    "    acc, tpr, tnr, ppv, npv = calc_perf_metrics_for_threshold(ytrue_N, yproba1_N, thresh)\n",
    "    \n",
    "    ## Pretty print the results\n",
    "    print(\"%.3f ACC\" % acc)\n",
    "    print(\"%.3f TPR\" % tpr)\n",
    "    print(\"%.3f TNR\" % tnr)\n",
    "    print(\"%.3f PPV\" % ppv)\n",
    "    print(\"%.3f NPV\" % npv)"
   ]
  },
  {
   "cell_type": "code",
   "execution_count": 9,
   "metadata": {},
   "outputs": [],
   "source": [
    "def calc_confusion_matrix_for_threshold(ytrue_N, yproba1_N, thresh):\n",
    "    ''' Compute the confusion matrix for a given probabilistic classifier and threshold\n",
    "    \n",
    "    Args\n",
    "    ----\n",
    "    ytrue_N : 1D array of floats\n",
    "        Each entry represents the binary value (0 or 1) of 'true' label of one example\n",
    "        One entry per example in current dataset\n",
    "    yproba1_N : 1D array of floats\n",
    "        Each entry represents a probability (between 0 and 1) that correct label is positive (1)\n",
    "        One entry per example in current dataset\n",
    "        Needs to be same size as ytrue_N\n",
    "    thresh : float\n",
    "        Scalar threshold for converting probabilities into hard decisions\n",
    "        Calls an example \"positive\" if yproba1 >= thresh\n",
    "\n",
    "    Returns\n",
    "    -------\n",
    "    cm_df : Pandas DataFrame\n",
    "        Can be printed like print(cm_df) to easily display results\n",
    "    '''\n",
    "    cm = sklearn.metrics.confusion_matrix(ytrue_N, yproba1_N >= thresh)\n",
    "    cm_df = pd.DataFrame(data=cm, columns=[0, 1], index=[0, 1])\n",
    "    cm_df.columns.name = 'Predicted'\n",
    "    cm_df.index.name = 'True'\n",
    "    return cm_df"
   ]
  },
  {
   "cell_type": "code",
   "execution_count": 10,
   "metadata": {},
   "outputs": [],
   "source": [
    "def compute_perf_metrics_across_thresholds(ytrue_N, yproba1_N, thresh_grid=None):\n",
    "    ''' Compute common binary classifier performance metrics across many thresholds\n",
    "    \n",
    "    If no array of thresholds is provided, will use all 'unique' values\n",
    "    in the yproba1_N array to define all possible thresholds with different performance.\n",
    "    \n",
    "    Args\n",
    "    ----\n",
    "    ytrue_N : 1D array of floats\n",
    "        Each entry represents the binary value (0 or 1) of 'true' label of one example\n",
    "        One entry per example in current dataset\n",
    "    yproba1_N : 1D array of floats\n",
    "        Each entry represents a probability (between 0 and 1) that correct label is positive (1)\n",
    "        One entry per example in current dataset\n",
    "\n",
    "    Returns\n",
    "    -------\n",
    "    thresh_grid : 1D array of floats\n",
    "        One entry for each possible threshold\n",
    "    perf_dict : dict, with key, value pairs:\n",
    "        * 'acc' : 1D array of accuracy values (one per threshold)\n",
    "        * 'ppv' : 1D array of positive predictive values (one per threshold)\n",
    "        * 'npv' : 1D array of negative predictive values (one per threshold)\n",
    "        * 'tpr' : 1D array of true positive rates (one per threshold)\n",
    "        * 'tnr' : 1D array of true negative rates (one per threshold)\n",
    "    '''\n",
    "    if thresh_grid is None:\n",
    "        bin_edges = np.linspace(0, 1.001, 21)\n",
    "        thresh_grid = np.sort(np.hstack([bin_edges, np.unique(yproba1_N)]))\n",
    "    tpr_grid = np.zeros_like(thresh_grid)\n",
    "    tnr_grid = np.zeros_like(thresh_grid)\n",
    "    ppv_grid = np.zeros_like(thresh_grid)\n",
    "    npv_grid = np.zeros_like(thresh_grid)\n",
    "    acc_grid = np.zeros_like(thresh_grid)\n",
    "    for tt, thresh in enumerate(thresh_grid):\n",
    "        # Apply specific threshold to convert probas into hard binary values (0 or 1)\n",
    "        # Then count number of true positives, true negatives, etc.\n",
    "        # Then compute metrics like accuracy and true positive rate\n",
    "        acc, tpr, tnr, ppv, npv = calc_perf_metrics_for_threshold(ytrue_N, yproba1_N, thresh)\n",
    "        acc_grid[tt] = acc\n",
    "        tpr_grid[tt] = tpr\n",
    "        tnr_grid[tt] = tnr\n",
    "        ppv_grid[tt] = ppv\n",
    "        npv_grid[tt] = npv\n",
    "    return thresh_grid, dict(\n",
    "        acc=acc_grid,\n",
    "        tpr=tpr_grid,\n",
    "        tnr=tnr_grid,\n",
    "        ppv=ppv_grid,\n",
    "        npv=npv_grid)\n",
    "\n",
    "def make_plot_perf_vs_threshold(ytrue_N, yproba1_N, bin_edges=np.linspace(0, 1, 21)):\n",
    "    ''' Make pretty plot of binary classifier performance as threshold increases\n",
    "    \n",
    "    Produces a plot with 3 rows:\n",
    "    * top row: hist of predicted probabilities for negative examples (shaded red)\n",
    "    * middle row: histogram of predicted probabilities for positive examples (shaded blue)\n",
    "    * bottom row: line plots of metrics that require hard decisions (ACC, TPR, TNR, etc.)\n",
    "    \n",
    "    The two histograms are as follows:\n",
    "    * The first (red) shows the number of class-0 entries, grouped by \n",
    "      the probabilities assigned by the predictor (yproba1_N).\n",
    "    * The second (blue) shows the number of class-1 entries, grouped by\n",
    "      the probabilities assigned by the predictor (yproba1_N).\n",
    "    \n",
    "    A \"perfect\" classifier would assign everything in class 0 the probability 0.0, \n",
    "    and everything in class 1 the probability 1.0, and the histograms would look \n",
    "    like one big pile of 150 items at 0.0, and then 25 items at 1.0.  \n",
    "    \n",
    "    You can actually see what this would look like by calling:\n",
    "        make_plot_perf_vs_threshold(y_va_N, y_va_N)\n",
    "    \n",
    "    Note that we of course don't expect perfect (0.0/1.0) predictions, but we can \n",
    "    still get a \"perfect\" probabilistic classifier if we have a threshold point T \n",
    "    where all the 0-class stuff from the first histogram is below T, and all the \n",
    "    1-class stuff from the second one is at or above T.  Of course, we probably \n",
    "    can't get that either, since complex data may not be linearly separable at all, \n",
    "    but that's the goal.\n",
    "    '''\n",
    "    fig, axes = plt.subplots(nrows=3, ncols=1, figsize=(12, 8))\n",
    "    sns.distplot(\n",
    "        yproba1_N[ytrue_N == 0],\n",
    "        color='r', bins=bin_edges, kde=False, rug=True, ax=axes[0]);\n",
    "    sns.distplot(\n",
    "        yproba1_N[ytrue_N == 1],\n",
    "        color='b', bins=bin_edges, kde=False, rug=True, ax=axes[1]);\n",
    "\n",
    "    thresh_grid, perf_grid = compute_perf_metrics_across_thresholds(ytrue_N, yproba1_N)\n",
    "    axes[2].plot(thresh_grid, perf_grid['acc'], 'k-', label='accuracy')\n",
    "    axes[2].plot(thresh_grid, perf_grid['tpr'], 'b-', label='TPR (recall/sensitivity)')\n",
    "    axes[2].plot(thresh_grid, perf_grid['tnr'], 'g-', label='TNR (specificity)')\n",
    "    axes[2].plot(thresh_grid, perf_grid['ppv'], 'c-', label='PPV (precision)')\n",
    "    axes[2].plot(thresh_grid, perf_grid['npv'], 'm-', label='NPV')\n",
    "    \n",
    "    axes[2].legend()\n",
    "    axes[2].set_ylim([0, 1])"
   ]
  },
  {
   "cell_type": "markdown",
   "metadata": {},
   "source": [
    "### Load the dataset.\n",
    "\n",
    "The following should ***not*** be modified.  After it runs, the various arrays it creates will contain the 2- or 3-feature input datasets."
   ]
  },
  {
   "cell_type": "code",
   "execution_count": 11,
   "metadata": {},
   "outputs": [],
   "source": [
    "# Load 3 feature version of x arrays\n",
    "x_tr_M3 = np.loadtxt('./data_cancer/x_train.csv', delimiter=',', skiprows=1)\n",
    "x_va_N3 = np.loadtxt('./data_cancer/x_valid.csv', delimiter=',', skiprows=1)\n",
    "x_te_N3 = np.loadtxt('./data_cancer/x_test.csv', delimiter=',', skiprows=1)\n",
    "\n",
    "# 2 feature version of x arrays\n",
    "x_tr_M2 = x_tr_M3[:, :2].copy()\n",
    "x_va_N2 = x_va_N3[:, :2].copy()\n",
    "x_te_N2 = x_te_N3[:, :2].copy()"
   ]
  },
  {
   "cell_type": "code",
   "execution_count": 12,
   "metadata": {},
   "outputs": [],
   "source": [
    "y_tr_M = np.loadtxt('./data_cancer/y_train.csv', delimiter=',', skiprows=1)\n",
    "y_va_N = np.loadtxt('./data_cancer/y_valid.csv', delimiter=',', skiprows=1)\n",
    "y_te_N = np.loadtxt('./data_cancer/y_test.csv', delimiter=',', skiprows=1)"
   ]
  },
  {
   "cell_type": "markdown",
   "metadata": {},
   "source": [
    "### 2: Compute the fraction of patients with cancer.\n",
    "\n",
    "Complete the following code.  Your solution needs to ***compute*** these values from the training, validation, and testing sets (i.e., don't simply hand-count and print the values)."
   ]
  },
  {
   "cell_type": "code",
   "execution_count": 13,
   "metadata": {},
   "outputs": [],
   "source": [
    "def frac_with_cancer(dataset):\n",
    "    l = len(dataset)\n",
    "    s = sum(dataset)\n",
    "    r = s/l\n",
    "    return r"
   ]
  },
  {
   "cell_type": "code",
   "execution_count": 14,
   "metadata": {},
   "outputs": [
    {
     "name": "stdout",
     "output_type": "stream",
     "text": [
      "Fraction with cancer in TRAIN: 0.141\n",
      "Fraction with cancer in VALID: 0.139\n",
      "Fraction with cancer in TEST : 0.139\n"
     ]
    }
   ],
   "source": [
    "print(\"Fraction with cancer in TRAIN: %.3f\" % frac_with_cancer(y_tr_M)) #TODO: modify what is printed here.\n",
    "print(\"Fraction with cancer in VALID: %.3f\" % frac_with_cancer(y_va_N))\n",
    "print(\"Fraction with cancer in TEST : %.3f\" % frac_with_cancer(y_te_N))"
   ]
  },
  {
   "cell_type": "markdown",
   "metadata": {},
   "source": [
    "### 3: The predict-0-always baseline\n",
    "\n",
    "#### (a) Compute the accuracy of the always-0 classifier.\n",
    "\n",
    "Complete the code to compute and print the accuracy of the always-0 classifier on validation and test outputs."
   ]
  },
  {
   "cell_type": "code",
   "execution_count": 15,
   "metadata": {},
   "outputs": [],
   "source": [
    "def accuracy(data, checker):\n",
    "    TP, TN, FP, FN = calc_TP_TN_FP_FN(data, checker)\n",
    "    acc = float((TP + TN)/(TP + TN + FP + FN))\n",
    "    return acc"
   ]
  },
  {
   "cell_type": "code",
   "execution_count": 16,
   "metadata": {},
   "outputs": [],
   "source": [
    "val_zeroes = np.zeros(len(y_va_N))\n",
    "val_acc = accuracy(y_va_N, val_zeroes)\n",
    "\n",
    "test_zeroes = np.zeros(len(y_te_N))\n",
    "test_acc = accuracy(y_te_N, test_zeroes)"
   ]
  },
  {
   "cell_type": "code",
   "execution_count": 17,
   "metadata": {},
   "outputs": [
    {
     "name": "stdout",
     "output_type": "stream",
     "text": [
      "Always-0: accuracy on VALID: 0.861\n",
      "Always-0: accuracy on TEST : 0.861\n"
     ]
    }
   ],
   "source": [
    "print(\"Always-0: accuracy on VALID: %.3f\" % val_acc) # TODO edit values!\n",
    "print(\"Always-0: accuracy on TEST : %.3f\" % test_acc)"
   ]
  },
  {
   "cell_type": "markdown",
   "metadata": {},
   "source": [
    "#### (b) Print a confusion matrix for the always-0 classifier.\n",
    "\n",
    "Add code below to generate a confusion matrix for the always-0 classifier on the validation set."
   ]
  },
  {
   "cell_type": "code",
   "execution_count": 18,
   "metadata": {},
   "outputs": [
    {
     "data": {
      "text/html": [
       "<div>\n",
       "<style scoped>\n",
       "    .dataframe tbody tr th:only-of-type {\n",
       "        vertical-align: middle;\n",
       "    }\n",
       "\n",
       "    .dataframe tbody tr th {\n",
       "        vertical-align: top;\n",
       "    }\n",
       "\n",
       "    .dataframe thead th {\n",
       "        text-align: right;\n",
       "    }\n",
       "</style>\n",
       "<table border=\"1\" class=\"dataframe\">\n",
       "  <thead>\n",
       "    <tr style=\"text-align: right;\">\n",
       "      <th>Predicted</th>\n",
       "      <th>0</th>\n",
       "      <th>1</th>\n",
       "    </tr>\n",
       "    <tr>\n",
       "      <th>True</th>\n",
       "      <th></th>\n",
       "      <th></th>\n",
       "    </tr>\n",
       "  </thead>\n",
       "  <tbody>\n",
       "    <tr>\n",
       "      <th>0</th>\n",
       "      <td>155</td>\n",
       "      <td>0</td>\n",
       "    </tr>\n",
       "    <tr>\n",
       "      <th>1</th>\n",
       "      <td>25</td>\n",
       "      <td>0</td>\n",
       "    </tr>\n",
       "  </tbody>\n",
       "</table>\n",
       "</div>"
      ],
      "text/plain": [
       "Predicted    0  1\n",
       "True             \n",
       "0          155  0\n",
       "1           25  0"
      ]
     },
     "execution_count": 18,
     "metadata": {},
     "output_type": "execute_result"
    }
   ],
   "source": [
    "calc_confusion_matrix_for_threshold(y_va_N, val_zeroes, 0.5)"
   ]
  },
  {
   "cell_type": "markdown",
   "metadata": {},
   "source": [
    "#### (c) Reflect on the accuracy of the always-0 classifier.\n",
    "\n",
    "**Answer**: The accuracy of the always-0 classifier came out to be around 86%, which does not look bad. Given the circumstances and data, however, 86% could be interpretted as quite bad. Based on the confusion matrix, 25 out of 180 people were incorrectly labeled as not having cancer. Misdiagnosing someone as not having cancer could kill, so 86% is not good enough. We care more about positive diagnoses, so using an always-0 classifier doesn't make sense in this situation. We can't calculate any statistics to determine the accuracy of our model based on this classifier (no true positive value or false positive value.)"
   ]
  },
  {
   "cell_type": "markdown",
   "metadata": {},
   "source": [
    "#### (d) Analyze the various costs of using the always-0 classifier.\n",
    "\n",
    "\n",
    "**Answer**: The biggest cost of using the always-0 classifier is that it focuses on people that don't have cancer. Society pays more attention to people who have cancer, which doesn't align with this model.  Using an always-0 classifier brings too many false positives, and we'd prefer to see more false negatives because that would hopefully mean we are detecting some patients with cancer. Using this classifier would cost a lot of patients a lot of money, physical and emotional exhaustian, and time in the hospital. I would recommend using an always-1 classifier, because then at least you are detecting some patients with cancer. It might end up being less accurate on all patients but a false positive is less costly than a false negative. "
   ]
  },
  {
   "cell_type": "markdown",
   "metadata": {},
   "source": [
    "### 4: Logistic Regression\n",
    "\n",
    "#### (a) Create a set of `LogisticRegression` models.\n",
    "\n",
    "Each model will use a different control parameter, `C`, and each will be fit to 2-feature data.  Probabilistic predictions will be made on both training set and validation set inputs, and logistic-loss for each will be recorded."
   ]
  },
  {
   "cell_type": "code",
   "execution_count": 62,
   "metadata": {},
   "outputs": [],
   "source": [
    "tr_loss_list = list()\n",
    "va_loss_list = list()\n",
    "\n",
    "# TODO fit, predict_proba, and evaluate logistic loss    \n",
    "# Record the best model here\n",
    "def calc_log_loss(C, x_va, x_tr, y_va, y_tr):\n",
    "    model = LogisticRegression(C=C, solver='liblinear').fit(x_tr, y_tr)\n",
    "    tr_predict = model.predict_proba(x_tr)\n",
    "    va_predict = model.predict_proba(x_va)\n",
    "    tr_loss = sklearn.metrics.log_loss(y_tr, tr_predict)\n",
    "    va_loss = sklearn.metrics.log_loss(y_va, va_predict)\n",
    "    return tr_loss, va_loss"
   ]
  },
  {
   "cell_type": "code",
   "execution_count": 63,
   "metadata": {},
   "outputs": [],
   "source": [
    "C = np.logspace(-9,6,31)\n",
    "tr_losses_2 = list()\n",
    "va_losses_2 = list() \n",
    "for j in C:\n",
    "    tr_loss, va_loss = calc_log_loss(j, x_va_N2, x_tr_M2, y_va_N, y_tr_M)\n",
    "    tr_losses_2.append(tr_loss)\n",
    "    va_losses_2.append(va_loss)"
   ]
  },
  {
   "cell_type": "markdown",
   "metadata": {},
   "source": [
    "#### Plot logistic loss (y-axis) vs. C (x-axis) on the training set and validation set.\n",
    "\n",
    "The best values for `C` and the loss should be printed."
   ]
  },
  {
   "cell_type": "code",
   "execution_count": 64,
   "metadata": {},
   "outputs": [
    {
     "data": {
      "image/png": "[encoded data removed]",
      "text/plain": [
       "<Figure size 576x396 with 1 Axes>"
      ]
     },
     "metadata": {},
     "output_type": "display_data"
    },
    {
     "name": "stdout",
     "output_type": "stream",
     "text": [
      "Best C-value for LR with 2-feature data: 31.623\n",
      "Validation set log-loss at best C-value: 0.3549\n"
     ]
    }
   ],
   "source": [
    "# TODO make plot\n",
    "plt.xscale('log')\n",
    "plt.xlabel('log10(C)')\n",
    "plt.ylabel('logistic loss')\n",
    "plt.plot(C,va_losses_2, color='blue',label = \"Validation Loss\")\n",
    "plt.plot(C,tr_losses_2, color='red',label = \"Training Loss\")\n",
    "plt.ylim([0.0, 0.7]);\n",
    "# TODO add legend\n",
    "# plt.legend(...);\n",
    "plt.legend()\n",
    "plt.show()\n",
    "print(\"Best C-value for LR with 2-feature data: %.3f\" % C[np.argmin(va_losses_2)]) # TODO\n",
    "print(\"Validation set log-loss at best C-value: %.4f\" % min(va_losses_2))"
   ]
  },
  {
   "cell_type": "markdown",
   "metadata": {},
   "source": [
    "#### (b) Plot the performance of the predictions made by the best classifier from step (a) on the validation set."
   ]
  },
  {
   "cell_type": "code",
   "execution_count": 65,
   "metadata": {},
   "outputs": [
    {
     "data": {
      "image/png": "[encoded data removed]",
      "text/plain": [
       "<Figure size 864x576 with 3 Axes>"
      ]
     },
     "metadata": {},
     "output_type": "display_data"
    }
   ],
   "source": [
    "# TODO call make_plot_perf_vs_threshold(...)\n",
    "best_C2 = C[np.argmin(va_losses_2)]\n",
    "bestmodel = LogisticRegression(C = best_C2, solver = 'liblinear').fit(x_tr_M2, y_tr_M)\n",
    "y_proba = bestmodel.predict_proba(x_va_N2)[:,1]\n",
    "make_plot_perf_vs_threshold(y_va_N, y_proba)"
   ]
  },
  {
   "cell_type": "markdown",
   "metadata": {},
   "source": [
    "#### (c) Model fitting with 3-feature data\n",
    "\n",
    "Repeat the model generation from **1.4 (a)**, using the full 3-feature data."
   ]
  },
  {
   "cell_type": "code",
   "execution_count": 67,
   "metadata": {},
   "outputs": [],
   "source": [
    "# TODO like 1.4 (a), but with 3 features\n",
    "tr_losses_3 = list()\n",
    "va_losses_3 = list()\n",
    "C = np.logspace(-9,6,31)\n",
    "for p in C:\n",
    "    tr_loss_3, va_loss_3 = calc_log_loss(p, x_va_N3, x_tr_M3, y_va_N, y_tr_M)\n",
    "    tr_losses_3.append(tr_loss_3)\n",
    "    va_losses_3.append(va_loss_3)"
   ]
  },
  {
   "cell_type": "markdown",
   "metadata": {},
   "source": [
    "#### Plot logistic loss (y-axis) vs. C (x-axis) for the 3-feature classifiers on the training set and validation set.\n",
    "\n",
    "Again, the best values for `C` and the loss should be printed."
   ]
  },
  {
   "cell_type": "code",
   "execution_count": 68,
   "metadata": {},
   "outputs": [
    {
     "data": {
      "image/png": "[encoded data removed]",
      "text/plain": [
       "<Figure size 576x396 with 1 Axes>"
      ]
     },
     "metadata": {},
     "output_type": "display_data"
    },
    {
     "name": "stdout",
     "output_type": "stream",
     "text": [
      "Best C-value for LR with 3-feature data: 1000000.000\n",
      "Validation set log-loss at best C-value: 0.2810\n"
     ]
    }
   ],
   "source": [
    "# TODO make plot\n",
    "plt.xscale('log')\n",
    "plt.xlabel('log10(C)')\n",
    "plt.ylabel('logistic loss')\n",
    "plt.plot(C, va_losses_3, color = 'blue', label = 'Validation Loss')\n",
    "plt.plot(C, tr_losses_3, color = 'red', label = 'Training Loss')\n",
    "plt.ylim([0.0, 0.7]);\n",
    "\n",
    "# TODO add legend\n",
    "plt.legend()\n",
    "plt.show()\n",
    "\n",
    "print(\"Best C-value for LR with 3-feature data: %.3f\" % C[np.argmin(va_losses_3)]) # TODO\n",
    "print(\"Validation set log-loss at best C-value: %.4f\" % min(va_losses_3))"
   ]
  },
  {
   "cell_type": "markdown",
   "metadata": {},
   "source": [
    "#### Plot the performance of the predictions made by the best 3-valued classifier on the validation set."
   ]
  },
  {
   "cell_type": "code",
   "execution_count": 69,
   "metadata": {},
   "outputs": [
    {
     "data": {
      "image/png": "[encoded data removed]",
      "text/plain": [
       "<Figure size 864x576 with 3 Axes>"
      ]
     },
     "metadata": {},
     "output_type": "display_data"
    }
   ],
   "source": [
    "# TODO call make_plot_perf_vs_threshold(...)\n",
    "best_C3 = C[np.argmin(va_losses_3)]\n",
    "bestmodel = LogisticRegression(C = best_C3, solver = 'liblinear').fit(x_tr_M3, y_tr_M)\n",
    "y_prob_3 = bestmodel.predict_proba(x_va_N3)[:,1]\n",
    "make_plot_perf_vs_threshold(y_va_N, y_prob_3)"
   ]
  },
  {
   "cell_type": "markdown",
   "metadata": {},
   "source": [
    "### 5: ROC Curves\n",
    "\n",
    "These curves allow us to compare model performance in terms of trade-offs between false positive and true positive results.\n",
    "\n",
    "#### (a) Plot ROC curves on the validation set.\n",
    "\n",
    "There should be two curves in the plot, one for each of the best two classifiers from prior steps."
   ]
  },
  {
   "cell_type": "code",
   "execution_count": 70,
   "metadata": {},
   "outputs": [],
   "source": [
    "vamodel2 = LogisticRegression(C = best_C2, solver = 'liblinear').fit(x_tr_M2, y_tr_M)\n",
    "y_prob_2 = vamodel2.predict_proba(x_va_N2)[:,1]\n",
    "fpr_2, tpr_2, thresh_va_2 = sklearn.metrics.roc_curve(y_va_N, y_prob_2)"
   ]
  },
  {
   "cell_type": "code",
   "execution_count": 71,
   "metadata": {},
   "outputs": [],
   "source": [
    "vamodel3 = LogisticRegression(C = best_C3, solver = 'liblinear').fit(x_tr_M3, y_tr_M)\n",
    "y_prob_3 = vamodel3.predict_proba(x_va_N3)[:,1]\n",
    "fpr_3, tpr_3, thresh_va_3 = sklearn.metrics.roc_curve(y_va_N, y_prob_3)"
   ]
  },
  {
   "cell_type": "code",
   "execution_count": 72,
   "metadata": {},
   "outputs": [
    {
     "data": {
      "image/png": "[encoded data removed]",
      "text/plain": [
       "<Figure size 576x396 with 1 Axes>"
      ]
     },
     "metadata": {},
     "output_type": "display_data"
    }
   ],
   "source": [
    "# TODO something like: fpr, tpr, thr = sklearn.metrics.roc_curve(...)\n",
    "\n",
    "plt.ylim([0, 1]);\n",
    "plt.plot(fpr_2,tpr_2, color = 'blue', label = '2 Feature Validation')\n",
    "plt.plot(fpr_3, tpr_3, color = 'red', label = '3 Feature Validation')\n",
    "plt.xlabel(\"False Postive rate (FPR = 1 - TPR)\");\n",
    "plt.ylabel(\"True Postive rate (TPR)\");\n",
    "plt.legend()\n",
    "plt.show()"
   ]
  },
  {
   "cell_type": "markdown",
   "metadata": {},
   "source": [
    "#### (b) Plot ROC curves on the test set.\n",
    "\n",
    "There should be two curves in the plot, one for each of the best two classifiers from prior steps."
   ]
  },
  {
   "cell_type": "code",
   "execution_count": 73,
   "metadata": {},
   "outputs": [],
   "source": [
    "temodel2 = LogisticRegression(C = best_C2, solver = 'liblinear').fit(x_tr_M2, y_tr_M)\n",
    "te_y_prob_2 = temodel2.predict_proba(x_te_N2)[:,1]\n",
    "te_fpr_2, te_tpr_2, thresh_te_2 = sklearn.metrics.roc_curve(y_te_N, te_y_prob_2)"
   ]
  },
  {
   "cell_type": "code",
   "execution_count": 74,
   "metadata": {},
   "outputs": [],
   "source": [
    "temodel3 = LogisticRegression(C = best_C3, solver = 'liblinear').fit(x_tr_M3, y_tr_M)\n",
    "te_y_prob_3 = temodel3.predict_proba(x_te_N3)[:,1]\n",
    "te_fpr_3, te_tpr_3, thresh_te_3 = sklearn.metrics.roc_curve(y_te_N, te_y_prob_3)"
   ]
  },
  {
   "cell_type": "code",
   "execution_count": 75,
   "metadata": {},
   "outputs": [
    {
     "data": {
      "image/png": "[encoded data removed]",
      "text/plain": [
       "<Figure size 576x396 with 1 Axes>"
      ]
     },
     "metadata": {},
     "output_type": "display_data"
    }
   ],
   "source": [
    "# TODO something like: fpr, tpr, thr = sklearn.metrics.roc_curve(...)\n",
    "\n",
    "plt.ylim([0, 1]);\n",
    "plt.plot(te_fpr_2,te_tpr_2, color = 'blue', label = '2 Feature Validation')\n",
    "plt.plot(te_fpr_3, te_tpr_3, color = 'red', label = '3 Feature Validation')\n",
    "plt.xlabel(\"False Postive rate (FPR = 1 - TPR)\");\n",
    "plt.ylabel(\"True Postive rate (TPR)\");\n",
    "plt.legend()\n",
    "plt.show()"
   ]
  },
  {
   "cell_type": "markdown",
   "metadata": {},
   "source": [
    "#### (c) Analyze the results shown in both the above plots, to compare classifier performance."
   ]
  },
  {
   "cell_type": "markdown",
   "metadata": {},
   "source": [
    "**Answer**: For a majority of instances, the 3 feature classifier performs better than the 2 feature classifier on both testing and validation sets. The 3 feature classifier has a greater area under the curve, as well as hitting the TPR = 1 line 'earlier'. On the other hand, the 2 feature classifier has a smaller area under the curve as well as hitting the TPR = 1 line 'later'. "
   ]
  },
  {
   "cell_type": "markdown",
   "metadata": {},
   "source": [
    "### 6: Selecting a decision threshold\n",
    "\n",
    "#### (a) Using default 0.5 threshold. \n",
    "\n",
    "Generate a confusion matrix for the best 3-feature logistic model on the test set, using threshold 0.5."
   ]
  },
  {
   "cell_type": "code",
   "execution_count": 76,
   "metadata": {},
   "outputs": [
    {
     "name": "stdout",
     "output_type": "stream",
     "text": [
      "Chosen best thr = 0.5000\n",
      "\n",
      "ON THE TEST SET:\n",
      "Predicted    0   1\n",
      "True              \n",
      "0          152   3\n",
      "1           15  10\n",
      "\n",
      "0.900 ACC\n",
      "0.400 TPR\n",
      "0.981 TNR\n",
      "0.769 PPV\n",
      "0.910 NPV\n",
      "None\n"
     ]
    }
   ],
   "source": [
    "best_thr = 0.5\n",
    "temodel3 = LogisticRegression(C = best_C3, solver = 'liblinear').fit(x_tr_M3, y_tr_M)\n",
    "te_y_prob_3 = temodel3.predict_proba(x_te_N3)[:,1]\n",
    "print(\"Chosen best thr = %.4f\" % best_thr)\n",
    "print(\"\")\n",
    "print(\"ON THE TEST SET:\")\n",
    "print(calc_confusion_matrix_for_threshold(y_te_N, te_y_prob_3, best_thr))\n",
    "print(\"\")\n",
    "print(print_perf_metrics_for_threshold(y_te_N, te_y_prob_3, best_thr))"
   ]
  },
  {
   "cell_type": "markdown",
   "metadata": {},
   "source": [
    "#### (b) Pick a threshold to maximize TPR, while ensuring PPV >= 0.98.\n",
    "\n",
    "After finding the best threshold on the validation set, plot its confusion matrix and print its various performance metrics, for the test set."
   ]
  },
  {
   "cell_type": "code",
   "execution_count": 77,
   "metadata": {},
   "outputs": [],
   "source": [
    "model_3 = LogisticRegression(C = best_C3, solver='liblinear').fit(x_tr_M3, y_tr_M)\n",
    "yprob_va3 = model_3.predict_proba(x_va_N3)[:,1]\n",
    "thresh_grid, perf_grid = compute_perf_metrics_across_thresholds(y_va_N, yprob_va3)"
   ]
  },
  {
   "cell_type": "code",
   "execution_count": 78,
   "metadata": {},
   "outputs": [],
   "source": [
    "def find_best_Thresh(perf_grid, thresh):\n",
    "    if(max(perf_grid['ppv']) < thresh):\n",
    "        return\n",
    "    copy = perf_grid['tpr'].copy()\n",
    "    while True:\n",
    "        ind = np.argmax(copy)\n",
    "        if perf_grid['ppv'][ind] >= thresh:\n",
    "            return ind\n",
    "        else:\n",
    "            copy[ind] = 0"
   ]
  },
  {
   "cell_type": "code",
   "execution_count": 79,
   "metadata": {},
   "outputs": [],
   "source": [
    "best_thresh_ind = find_best_Thresh(perf_grid, 0.98)\n",
    "best_thresh = thresh_grid[best_thresh_ind]"
   ]
  },
  {
   "cell_type": "code",
   "execution_count": 80,
   "metadata": {},
   "outputs": [
    {
     "name": "stdout",
     "output_type": "stream",
     "text": [
      "ON THE VALIDATION SET:\n",
      "Chosen best thr = 0.6290\n",
      "ON THE TEST SET:\n",
      "Predicted    0  1\n",
      "True             \n",
      "0          155  0\n",
      "1           20  5\n",
      "\n",
      "0.889 ACC\n",
      "0.200 TPR\n",
      "1.000 TNR\n",
      "1.000 PPV\n",
      "0.886 NPV\n",
      "None\n"
     ]
    }
   ],
   "source": [
    "# TODO thresh_grid, perf_grid = compute_perf_metrics_across_thresholds(...)\n",
    "\n",
    "# TODO Find threshold that makes validation set TPR as large as possible, \n",
    "# while satisfying PPV >= 0.98\n",
    "\n",
    "print(\"ON THE VALIDATION SET:\")\n",
    "print(\"Chosen best thr = %.4f\" % best_thresh)\n",
    "print(\"ON THE TEST SET:\")\n",
    "print(calc_confusion_matrix_for_threshold(y_te_N, te_y_prob_3, best_thresh))\n",
    "print(\"\")\n",
    "print(print_perf_metrics_for_threshold(y_te_N, te_y_prob_3, best_thresh))"
   ]
  },
  {
   "cell_type": "markdown",
   "metadata": {},
   "source": [
    "#### (c) Pick a threshold to maximize PPV, while ensuring TPR >= 0.98.\n",
    "\n",
    "After finding the best threshold on the validation set, plot its confusion matrix and print its various performance metrics, for the test set."
   ]
  },
  {
   "cell_type": "code",
   "execution_count": 81,
   "metadata": {},
   "outputs": [],
   "source": [
    "model_4 = LogisticRegression(C = best_C3, solver='liblinear').fit(x_tr_M3, y_tr_M)\n",
    "\n",
    "yprob_va4 = model_4.predict_proba(x_va_N3)[:,1]\n",
    "\n",
    "yprob_te4 = model_4.predict_proba(x_te_N3)[:,1]\n",
    "\n",
    "thresh_grid2, perf_grid2 = compute_perf_metrics_across_thresholds(y_va_N, yprob_va4)\n"
   ]
  },
  {
   "cell_type": "code",
   "execution_count": 82,
   "metadata": {},
   "outputs": [],
   "source": [
    "def find_best_PPV(perf_grid2, Pthresh):\n",
    "    if(max(perf_grid['tpr']) < Pthresh):\n",
    "        return\n",
    "    copy = perf_grid['ppv'].copy()\n",
    "    while True:\n",
    "        ind = np.argmax(copy)\n",
    "        if perf_grid['tpr'][ind] >= Pthresh:\n",
    "            return ind\n",
    "        else:\n",
    "            copy[ind] = 0"
   ]
  },
  {
   "cell_type": "code",
   "execution_count": 83,
   "metadata": {},
   "outputs": [
    {
     "name": "stdout",
     "output_type": "stream",
     "text": [
      "ON THE VALIDATION SET:\n",
      "Chosen best thr = 0.0300\n",
      "\n",
      "ON THE TEST SET:\n",
      "Predicted   0   1\n",
      "True             \n",
      "0          57  98\n",
      "1           0  25\n",
      "\n",
      "0.456 ACC\n",
      "1.000 TPR\n",
      "0.368 TNR\n",
      "0.203 PPV\n",
      "1.000 NPV\n",
      "None\n"
     ]
    }
   ],
   "source": [
    "best_thresh2_ind = find_best_PPV(perf_grid2, 0.98)\n",
    "best_thresh_2 = thresh_grid[best_thresh2_ind]\n",
    "# TODO thresh_grid, perf_grid = compute_perf_metrics_across_thresholds(...)\n",
    "\n",
    "# TODO Find threshold that makes validation set PPV as large as possible, \n",
    "# while satisfying TPR >= 0.98\n",
    "\n",
    "\n",
    "print(\"ON THE VALIDATION SET:\")\n",
    "print(\"Chosen best thr = %.4f\" % best_thresh_2) # TODO\n",
    "print(\"\")\n",
    "print(\"ON THE TEST SET:\")\n",
    "print(calc_confusion_matrix_for_threshold(y_te_N, yprob_te4, best_thresh_2))\n",
    "print(\"\")\n",
    "print(print_perf_metrics_for_threshold(y_te_N, yprob_te4, best_thresh_2))"
   ]
  },
  {
   "cell_type": "code",
   "execution_count": 84,
   "metadata": {},
   "outputs": [
    {
     "name": "stdout",
     "output_type": "stream",
     "text": [
      "CONFUSION MATRIX (A)\n",
      "Chosen best thr = 0.5000\n",
      "\n",
      "ON THE TEST SET:\n",
      "Predicted    0   1\n",
      "True              \n",
      "0          152   3\n",
      "1           15  10\n",
      "\n",
      "0.900 ACC\n",
      "0.400 TPR\n",
      "0.981 TNR\n",
      "0.769 PPV\n",
      "0.910 NPV\n",
      "None\n",
      "CONFUSION MATRIX (B)\n",
      "ON THE VALIDATION SET:\n",
      "Chosen best thr = 0.6290\n",
      "ON THE TEST SET:\n",
      "Predicted    0  1\n",
      "True             \n",
      "0          155  0\n",
      "1           20  5\n",
      "\n",
      "0.889 ACC\n",
      "0.200 TPR\n",
      "1.000 TNR\n",
      "1.000 PPV\n",
      "0.886 NPV\n",
      "None\n",
      "CONFUSION MATRIX (C)\n",
      "ON THE VALIDATION SET:\n",
      "Chosen best thr = 0.0300\n",
      "\n",
      "ON THE TEST SET:\n",
      "Predicted   0   1\n",
      "True             \n",
      "0          57  98\n",
      "1           0  25\n",
      "\n",
      "0.456 ACC\n",
      "1.000 TPR\n",
      "0.368 TNR\n",
      "0.203 PPV\n",
      "1.000 NPV\n",
      "None\n"
     ]
    }
   ],
   "source": [
    "# Printing confusion matrices in the same cell for easier analysis\n",
    "print(\"CONFUSION MATRIX (A)\")\n",
    "best_thr = 0.5\n",
    "temodel3 = LogisticRegression(C = best_C3, solver = 'liblinear').fit(x_tr_M3, y_tr_M)\n",
    "te_y_prob_3 = temodel3.predict_proba(x_te_N3)[:,1]\n",
    "print(\"Chosen best thr = %.4f\" % best_thr)\n",
    "print(\"\")\n",
    "print(\"ON THE TEST SET:\")\n",
    "print(calc_confusion_matrix_for_threshold(y_te_N, te_y_prob_3, best_thr))\n",
    "print(\"\")\n",
    "print(print_perf_metrics_for_threshold(y_te_N, te_y_prob_3, best_thr))\n",
    "\n",
    "print(\"CONFUSION MATRIX (B)\")\n",
    "model_3 = LogisticRegression(C = best_C3, solver='liblinear').fit(x_tr_M3, y_tr_M)\n",
    "yprob_va3 = model_3.predict_proba(x_va_N3)[:,1]\n",
    "thresh_grid, perf_grid = compute_perf_metrics_across_thresholds(y_va_N, yprob_va3)\n",
    "best_thresh_ind = find_best_Thresh(perf_grid, 0.98)\n",
    "best_thresh = thresh_grid[best_thresh_ind]\n",
    "print(\"ON THE VALIDATION SET:\")\n",
    "print(\"Chosen best thr = %.4f\" % best_thresh)\n",
    "print(\"ON THE TEST SET:\")\n",
    "print(calc_confusion_matrix_for_threshold(y_te_N, te_y_prob_3, best_thresh))\n",
    "print(\"\")\n",
    "print(print_perf_metrics_for_threshold(y_te_N, te_y_prob_3, best_thresh))\n",
    "\n",
    "print(\"CONFUSION MATRIX (C)\")\n",
    "model_4 = LogisticRegression(C = best_C3, solver='liblinear').fit(x_tr_M3, y_tr_M)\n",
    "yprob_va4 = model_4.predict_proba(x_va_N3)[:,1]\n",
    "yprob_te4 = model_4.predict_proba(x_te_N3)[:,1]\n",
    "thresh_grid2, perf_grid2 = compute_perf_metrics_across_thresholds(y_va_N, yprob_va4)\n",
    "best_thresh2_ind = find_best_PPV(perf_grid2, 0.98)\n",
    "best_thresh_2 = thresh_grid[best_thresh2_ind]\n",
    "print(\"ON THE VALIDATION SET:\")\n",
    "print(\"Chosen best thr = %.4f\" % best_thresh_2) # TODO\n",
    "print(\"\")\n",
    "print(\"ON THE TEST SET:\")\n",
    "print(calc_confusion_matrix_for_threshold(y_te_N, yprob_te4, best_thresh_2))\n",
    "print(\"\")\n",
    "print(print_perf_metrics_for_threshold(y_te_N, yprob_te4, best_thresh_2))"
   ]
  },
  {
   "cell_type": "markdown",
   "metadata": {},
   "source": [
    "#### (d) Compare the confusion matrices from (a)–(c) to analyze the different thresholds."
   ]
  },
  {
   "cell_type": "markdown",
   "metadata": {},
   "source": [
    "**Answer**: We can see from the above confusion matrices that using a threshold of 0.6290 (part (b)) maximizes PPV. However, using this threshold also brings the highest false negative rate, which is problematic when contextualized with the cancer data. Giving someone with cancer a negative diagnosis may cause their death, which is most definetely not what we want to happen. Using a threshold of 0.5 provides the second highest accuracy by maximizing PPV and TNR, but also comes with a high number of false negatives. Using a threshold of 0.03 provides the highest TPR, but also the highest number of false positives. This is less problematic because most cancer spotting tests are done multiple times, which will hopefully allow doctors to spot the cancer upon taking another test. "
   ]
  },
  {
   "cell_type": "markdown",
   "metadata": {},
   "source": [
    "#### (e) How many biopsies can be avoided using the best threshold for the classifier?"
   ]
  },
  {
   "cell_type": "markdown",
   "metadata": {},
   "source": [
    "**Answer**: Biopsies can be avoided on all patients whose prediction is negative, meaning for a threshold of 0.6290 we can avoid 155 + 20 biopsies. However, this will result in missing 20 biopsies when they should have been performed. Instead, if one chooses a threshold of 0.5 they can avoid 154 biopsies but predict a false negative less often. If one chooses a threshold of 0.03, the large number of false positives will result in a higher number of biopsies performed but with 0 false negatives, no positive cancer cases will be missed. "
   ]
  },
  {
   "cell_type": "code",
   "execution_count": null,
   "metadata": {},
   "outputs": [],
   "source": []
  }
 ],
 "metadata": {
  "kernelspec": {
   "display_name": "Python 3",
   "language": "python",
   "name": "python3"
  },
  "language_info": {
   "codemirror_mode": {
    "name": "ipython",
    "version": 3
   },
   "file_extension": ".py",
   "mimetype": "text/x-python",
   "name": "python",
   "nbconvert_exporter": "python",
   "pygments_lexer": "ipython3",
   "version": "3.8.5"
  }
 },
 "nbformat": 4,
 "nbformat_minor": 2
}
